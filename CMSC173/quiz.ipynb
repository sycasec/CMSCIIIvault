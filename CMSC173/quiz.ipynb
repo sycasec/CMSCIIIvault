{
 "cells": [
  {
   "cell_type": "code",
   "execution_count": 7,
   "id": "5ef00521-6c1f-40f4-8278-ec66fabdf8a3",
   "metadata": {},
   "outputs": [
    {
     "data": {
      "text/plain": [
       "'%.3f'"
      ]
     },
     "execution_count": 7,
     "metadata": {},
     "output_type": "execute_result"
    }
   ],
   "source": [
    "import numpy as np\n",
    "from scipy.stats import norm\n",
    "\n",
    "# set precision\n",
    "%precision 3"
   ]
  },
  {
   "cell_type": "code",
   "execution_count": 2,
   "id": "1d5f9fe6-d785-400e-8c67-0667356cd7b5",
   "metadata": {},
   "outputs": [],
   "source": [
    "# Given data\n",
    "data = np.array([\n",
    "    [184, 0, 0, 1, 2.1, 0],\n",
    "    [243, 0, 0, 1, 0, 1],\n",
    "    [222, 0, 1, 1, 1.2, 1],\n",
    "    [309, 0, 0, 1, 0, 0],\n",
    "    [198, 0, 1, 1, 1.6, 0],\n",
    "    [308, 0, 0, 0, 0, 1],\n",
    "    [234, 0, 0, 0, 0, 1],\n",
    "    [197, 0, 0, 0, 0, 0],\n",
    "    [266, 0, 0, 1, 2.2, 0],\n",
    "    [195, 0, 1, 0, 0, 1],\n",
    "    [223, 0, 1, 0, 0, 1],\n",
    "    [309, 0, 1, 0, 0, 1],\n",
    "    [233, 1, 0, 0, 2.3, 1],\n",
    "    [289, 1, 0, 0, 1, 0],\n",
    "    [235, 0, 1, 0, 0, 1]\n",
    "])\n"
   ]
  },
  {
   "cell_type": "code",
   "execution_count": 48,
   "id": "3b14e5b0-2d4a-49f1-ba3d-510d619ef820",
   "metadata": {},
   "outputs": [
    {
     "name": "stdout",
     "output_type": "stream",
     "text": [
      "P(Class = 0): 0.4\n"
     ]
    }
   ],
   "source": [
    "# Extract Class column\n",
    "class_column = data[:, -1]\n",
    "\n",
    "# Calculate P(Class = 0)\n",
    "p_class_0 = np.sum(class_column == 0) / len(class_column)\n",
    "\n",
    "print(\"P(Class = 0):\", p_class_0)"
   ]
  },
  {
   "cell_type": "code",
   "execution_count": 9,
   "id": "c5ad7cf0-31a5-4cfb-ac9a-e8ec5fb4030a",
   "metadata": {},
   "outputs": [
    {
     "data": {
      "text/plain": [
       "6"
      ]
     },
     "execution_count": 9,
     "metadata": {},
     "output_type": "execute_result"
    }
   ],
   "source": [
    "np.sum(class_column==0)"
   ]
  },
  {
   "cell_type": "code",
   "execution_count": 38,
   "id": "f6db00a5-7955-4ca1-a2d0-43e192cb5638",
   "metadata": {},
   "outputs": [
    {
     "data": {
      "text/plain": [
       "(0.167, 0.333)"
      ]
     },
     "execution_count": 38,
     "metadata": {},
     "output_type": "execute_result"
    }
   ],
   "source": [
    "# Extract relevant columns (FBS and Class)\n",
    "fbs_column = data[:, 1]\n",
    "rest_ecg_col = data[:,2]\n",
    "exang_col = data[:,3]\n",
    "class_column = data[:, -1]\n",
    "\n",
    "# Calculate P(FBS=1 | Class=1)\n",
    "p_fbs_1_given_class_1 = np.sum((fbs_column == 1) & (class_column == 1)) / np.sum(class_column == 1)\n",
    "\n",
    "p_r1_given_0 = np.sum((rest_ecg_col == 1) & (class_column == 0)) / np.sum(class_column == 0)\n",
    " \n",
    "\n",
    "p_e0_g_0 = np.sum((exang_col==0) & (class_column == 0)) / np.sum(class_column == 0)\n",
    "p_r1_given_0, p_e0_g_0"
   ]
  },
  {
   "cell_type": "code",
   "execution_count": 34,
   "id": "dc24d4bf-dfa3-4de5-91d9-5bd4c363bfc9",
   "metadata": {},
   "outputs": [
    {
     "name": "stdout",
     "output_type": "stream",
     "text": [
      "P(FBS=1 | Class=0): 0.167\n"
     ]
    }
   ],
   "source": [
    "p_fbs_0_given_class_0 = np.sum((fbs_column == 1) & (class_column == 0)) / np.sum(class_column == 0)\n",
    "print(f\"P(FBS=1 | Class=0): {p_fbs_0_given_class_0:.3f}\", )\n"
   ]
  },
  {
   "cell_type": "code",
   "execution_count": 31,
   "id": "ae4e9edc-27d8-4e06-bef4-f8e26df9e738",
   "metadata": {},
   "outputs": [],
   "source": [
    "# Extract relevant columns (excluding Class)\n",
    "X_train = data[:, :-1]\n",
    "y_train = data[:, -1]\n",
    "\n",
    "# Unknown vector\n",
    "x_unknown = np.array([193, 1, 1, 0, 3.4])\n",
    "\n",
    "c_x_unknown = np.array([193, 3.4])\n"
   ]
  },
  {
   "cell_type": "code",
   "execution_count": 32,
   "id": "850dbc87-4ed8-4773-a532-d35e46416e6b",
   "metadata": {},
   "outputs": [
    {
     "data": {
      "text/plain": [
       "{0.000: array([[184. ,   0. ,   0. ,   1. ,   2.1],\n",
       "        [309. ,   0. ,   0. ,   1. ,   0. ],\n",
       "        [198. ,   0. ,   1. ,   1. ,   1.6],\n",
       "        [197. ,   0. ,   0. ,   0. ,   0. ],\n",
       "        [266. ,   0. ,   0. ,   1. ,   2.2],\n",
       "        [289. ,   1. ,   0. ,   0. ,   1. ]]),\n",
       " 1.000: array([[243. ,   0. ,   0. ,   1. ,   0. ],\n",
       "        [222. ,   0. ,   1. ,   1. ,   1.2],\n",
       "        [308. ,   0. ,   0. ,   0. ,   0. ],\n",
       "        [234. ,   0. ,   0. ,   0. ,   0. ],\n",
       "        [195. ,   0. ,   1. ,   0. ,   0. ],\n",
       "        [223. ,   0. ,   1. ,   0. ,   0. ],\n",
       "        [309. ,   0. ,   1. ,   0. ,   0. ],\n",
       "        [233. ,   1. ,   0. ,   0. ,   2.3],\n",
       "        [235. ,   0. ,   1. ,   0. ,   0. ]])}"
      ]
     },
     "execution_count": 32,
     "metadata": {},
     "output_type": "execute_result"
    }
   ],
   "source": [
    "# Separate data by class\n",
    "class_data = {}\n",
    "for class_label in np.unique(y_train):\n",
    "    class_data[class_label] = X_train[y_train == class_label]\n",
    "class_data"
   ]
  },
  {
   "cell_type": "code",
   "execution_count": 23,
   "id": "3c95ce6e-1731-474d-8cbd-779639b448d5",
   "metadata": {},
   "outputs": [
    {
     "data": {
      "text/plain": [
       "{0.000: {'mean': array([2.405e+02, 1.667e-01, 1.667e-01, 6.667e-01, 1.150e+00]),\n",
       "  'std': array([54.01 ,  0.408,  0.408,  0.516,  0.987])},\n",
       " 1.000: {'mean': array([2.447e+02, 1.111e-01, 5.556e-01, 2.222e-01, 3.889e-01]),\n",
       "  'std': array([38.643,  0.333,  0.527,  0.441,  0.819])}}"
      ]
     },
     "execution_count": 23,
     "metadata": {},
     "output_type": "execute_result"
    }
   ],
   "source": [
    "# Calculate mean and standard deviation for Chol and Oldpeak in each class\n",
    "class_params = {}\n",
    "for class_label, class_samples in class_data.items():\n",
    "    class_params[class_label] = {\n",
    "        'mean': np.mean(class_samples, axis=0),\n",
    "        'std': np.std(class_samples, axis=0, ddof=1),\n",
    "    }\n",
    "class_params"
   ]
  },
  {
   "cell_type": "code",
   "execution_count": 47,
   "id": "f71f14f7-d937-4a1c-a3b9-b280d32c9f7f",
   "metadata": {},
   "outputs": [
    {
     "data": {
      "text/plain": [
       "(0.005, 0.030)"
      ]
     },
     "execution_count": 47,
     "metadata": {},
     "output_type": "execute_result"
    }
   ],
   "source": [
    "# Calculate likelihood for continuous features (Chol and Oldpeak) for class 0\n",
    "likelihood_chol = norm.pdf(x_unknown[0], loc=class_params[0]['mean'][0], scale=class_params[0]['std'][0])\n",
    "likelihood_oldpeak = norm.pdf(x_unknown[4], loc=class_params[0]['mean'][4], scale=class_params[0]['std'][4])\n",
    "\n",
    "likelihood_chol, likelihood_oldpeak"
   ]
  },
  {
   "cell_type": "code",
   "execution_count": 41,
   "id": "705f8918-48a6-4be9-9f4f-ef65e96263e5",
   "metadata": {},
   "outputs": [
    {
     "data": {
      "text/plain": [
       "0.000"
      ]
     },
     "execution_count": 41,
     "metadata": {},
     "output_type": "execute_result"
    }
   ],
   "source": [
    "0.167 * 0.005 * 0.913 * 0.167 * 0.333"
   ]
  },
  {
   "cell_type": "code",
   "execution_count": 53,
   "id": "e70bc301-bfbc-426e-a2f6-cf1d89459002",
   "metadata": {},
   "outputs": [],
   "source": [
    "#p_e0_g_0 = np.sum((exang_col==0) & (class_column == 0)) / np.sum(class_column == 0)\n",
    "\n",
    "def calc_col(col_data, col_comp, class_comp):\n",
    "    return np.sum((col_data==col_comp) & (class_column == class_comp)) / np.sum(class_column == class_comp)"
   ]
  },
  {
   "cell_type": "code",
   "execution_count": 52,
   "id": "51dbd76e-498d-4789-9df5-f7dc7484e5d6",
   "metadata": {},
   "outputs": [
    {
     "data": {
      "text/plain": [
       "(0.004, 0.001)"
      ]
     },
     "execution_count": 52,
     "metadata": {},
     "output_type": "execute_result"
    }
   ],
   "source": [
    "lchol_class1 = norm.pdf(x_unknown[0], loc=class_params[1]['mean'][0], scale=class_params[1]['std'][0])\n",
    "lpeak_class1 = norm.pdf(x_unknown[4], loc=class_params[1]['mean'][4], scale=class_params[1]['std'][4])\n",
    "\n",
    "lchol_class1, lpeak_class1"
   ]
  },
  {
   "cell_type": "code",
   "execution_count": 57,
   "id": "d6a1477f-bd8e-41c0-bb90-d05550d26332",
   "metadata": {},
   "outputs": [
    {
     "data": {
      "text/plain": [
       "0.111"
      ]
     },
     "execution_count": 57,
     "metadata": {},
     "output_type": "execute_result"
    }
   ],
   "source": [
    "calc_col(fbs_column, 1, 1)"
   ]
  },
  {
   "cell_type": "code",
   "execution_count": null,
   "id": "7ab47298-64d6-4243-b977-eaae80be2f29",
   "metadata": {},
   "outputs": [],
   "source": []
  }
 ],
 "metadata": {
  "kernelspec": {
   "display_name": "Python 3 (ipykernel)",
   "language": "python",
   "name": "python3"
  },
  "language_info": {
   "codemirror_mode": {
    "name": "ipython",
    "version": 3
   },
   "file_extension": ".py",
   "mimetype": "text/x-python",
   "name": "python",
   "nbconvert_exporter": "python",
   "pygments_lexer": "ipython3",
   "version": "3.11.5"
  }
 },
 "nbformat": 4,
 "nbformat_minor": 5
}

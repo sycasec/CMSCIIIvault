{
 "cells": [
  {
   "cell_type": "code",
   "execution_count": 3,
   "id": "a480468c-1fdc-4ea0-ab43-a7b2a4531dd3",
   "metadata": {},
   "outputs": [],
   "source": [
    "# importing necessary libraries\n",
    "import numpy as np\n",
    "from scipy.stats import norm"
   ]
  },
  {
   "cell_type": "code",
   "execution_count": 4,
   "id": "930f01c2-79d9-425d-9461-095f266420b3",
   "metadata": {},
   "outputs": [],
   "source": [
    "# data storage\n",
    "data = np.array ([\n",
    "    [184, 0, 0, 1, 2.1, 0],\n",
    "    [2, 1, 30, 1, 1, 'normal'],\n",
    "    [3, 0, 32, 1, 0, 'tumor'],\n",
    "    [4, -1, 20, 1, 0, 'tumor'],\n",
    "    [5, -1, 15, 0, 0, 'tumor'],\n",
    "    [6, -1, 13, 0, 1, 'normal'],\n",
    "    [7, 0, 11, 0, 1, 'tumor'],\n",
    "    [8, 1, 22, 1, 0, 'normal'],\n",
    "    [9, 1, 14, 0, 0, 'tumor'],\n",
    "    [10, -1, 24, 0, 0, 'tumor'],\n",
    "    [11, 1, 23, 0, 1, 'tumor'],\n",
    "    [12, 0, 25, 1, 1, 'tumor'],\n",
    "    [13, 0, 33, 0, 0, 'tumor'],\n",
    "    [14, -1, 21, 1, 1, 'normal'],\n",
    "    [15, 1, 12, 1, 1, 'unknown']\n",
    "])"
   ]
  },
  {
   "cell_type": "code",
   "execution_count": 51,
   "id": "60d434bf-0ef8-4203-8702-8985dcc6ffd4",
   "metadata": {},
   "outputs": [],
   "source": [
    "# Separate data and labels\n",
    "X = data[:, 1:-1].astype(float)  # Features excluding Sample and Class columns\n",
    "y = data[:, -1]"
   ]
  },
  {
   "cell_type": "code",
   "execution_count": 52,
   "id": "3156205a-e957-4319-bd12-0a436e2ef474",
   "metadata": {},
   "outputs": [],
   "source": [
    "# Separate data for prediction (row 15)\n",
    "X_pred = X[-1].reshape(1, -1)"
   ]
  },
  {
   "cell_type": "code",
   "execution_count": 53,
   "id": "4b92a49c-75af-483b-a7db-eb1890dc7702",
   "metadata": {},
   "outputs": [],
   "source": [
    "# Remove the row for prediction from the training data\n",
    "X = X[:-1]\n",
    "y = y[:-1]"
   ]
  },
  {
   "cell_type": "code",
   "execution_count": 54,
   "id": "8df52d0e-30fb-44b6-b278-50849b4664c7",
   "metadata": {},
   "outputs": [
    {
     "data": {
      "text/plain": [
       "{'normal': [array([ 1., 35.,  1.,  0.]),\n",
       "  array([ 1., 30.,  1.,  1.]),\n",
       "  array([-1., 13.,  0.,  1.]),\n",
       "  array([ 1., 22.,  1.,  0.]),\n",
       "  array([-1., 21.,  1.,  1.])],\n",
       " 'tumor': [array([ 0., 32.,  1.,  0.]),\n",
       "  array([-1., 20.,  1.,  0.]),\n",
       "  array([-1., 15.,  0.,  0.]),\n",
       "  array([ 0., 11.,  0.,  1.]),\n",
       "  array([ 1., 14.,  0.,  0.]),\n",
       "  array([-1., 24.,  0.,  0.]),\n",
       "  array([ 1., 23.,  0.,  1.]),\n",
       "  array([ 0., 25.,  1.,  1.]),\n",
       "  array([ 0., 33.,  0.,  0.])]}"
      ]
     },
     "execution_count": 54,
     "metadata": {},
     "output_type": "execute_result"
    }
   ],
   "source": [
    "# Group the data by class\n",
    "class_data = {}\n",
    "for i in range(len(X)):\n",
    "    class_label = y[i]\n",
    "    if class_label not in class_data:\n",
    "        class_data[class_label] = []\n",
    "    class_data[class_label].append(X[i])\n",
    "\n",
    "class_data"
   ]
  },
  {
   "cell_type": "code",
   "execution_count": 55,
   "id": "d56990d8-c738-4559-ab08-b3cd1fe3b952",
   "metadata": {},
   "outputs": [
    {
     "name": "stdout",
     "output_type": "stream",
     "text": [
      "normal: [35.0, 30.0, 13.0, 22.0, 21.0]\n",
      "tumor: [32.0, 20.0, 15.0, 11.0, 14.0, 24.0, 23.0, 25.0, 33.0]\n"
     ]
    },
    {
     "data": {
      "text/plain": [
       "{'normal': {'mean': 24.2, 'std': 8.526429498916883},\n",
       " 'tumor': {'mean': 21.88888888888889, 'std': 7.688375063113864}}"
      ]
     },
     "execution_count": 55,
     "metadata": {},
     "output_type": "execute_result"
    }
   ],
   "source": [
    "# Calculate mean and standard deviation for each class and feature\n",
    "feature_index = 1  # Assuming Gene B is the second column (index 1) in your data\n",
    "class_params = {}\n",
    "for class_label, class_samples in class_data.items():\n",
    "    feature_values = [sample[feature_index] for sample in class_samples]\n",
    "    print(f\"{class_label}: {feature_values}\") \n",
    "    class_params[class_label] = {\n",
    "        'mean': np.mean(feature_values),\n",
    "        'std': np.std(feature_values, ddof=1),\n",
    "    }\n",
    "class_params"
   ]
  },
  {
   "cell_type": "code",
   "execution_count": 63,
   "id": "030697fb-bfba-4901-8b06-b5fc3e979d84",
   "metadata": {},
   "outputs": [],
   "source": [
    "def custom_gauss_pdf(mean, std, x_i):\n",
    "    pdf_val = (1 / (std * np.sqrt(2 * np.pi))) * (np.exp(-0.5 * ((x_i - mean) / std)**2 ))\n",
    "    return pdf_val"
   ]
  },
  {
   "cell_type": "code",
   "execution_count": 65,
   "id": "497f69a5-c6be-4c49-8cb7-5d8b8efc3f61",
   "metadata": {},
   "outputs": [
    {
     "data": {
      "text/plain": [
       "{'normal': 0.016810222465183086, 'tumor': 0.02269024718788692}"
      ]
     },
     "execution_count": 65,
     "metadata": {},
     "output_type": "execute_result"
    }
   ],
   "source": [
    "likelihoods = {}\n",
    "for class_label, params in class_params.items():\n",
    "    likelihoods[class_label] = norm.pdf(X_pred[0, 1], loc=params['mean'], scale=params['std'])\n",
    "    #likelihoods[class_label] = custom_gauss_pdf(params['mean'], params['std'], X_pred[0,1])\n",
    "    #print(f\"mean:{params['mean']}, std:{params['std']}, x_pred:{X_pred[0,1]}\")\n",
    "likelihoods"
   ]
  },
  {
   "cell_type": "code",
   "execution_count": 89,
   "id": "8679a0f6-8cc7-43ce-b787-c3dd78bcf6e4",
   "metadata": {},
   "outputs": [
    {
     "name": "stdout",
     "output_type": "stream",
     "text": [
      "Class: normal\n",
      "  Feature 0: {-1.0: 2, 0.0: 0, 1.0: 3}\n",
      "  Feature 1: {11.0: 0, 13.0: 1, 14.0: 0, 15.0: 0, 20.0: 0, 21.0: 1, 22.0: 1, 23.0: 0, 24.0: 0, 25.0: 0, 30.0: 1, 32.0: 0, 33.0: 0, 35.0: 1}\n",
      "  Feature 2: {0.0: 1, 1.0: 4}\n",
      "  Feature 3: {0.0: 2, 1.0: 3}\n",
      "Class: tumor\n",
      "  Feature 0: {-1.0: 3, 0.0: 4, 1.0: 2}\n",
      "  Feature 1: {11.0: 1, 13.0: 0, 14.0: 1, 15.0: 1, 20.0: 1, 21.0: 0, 22.0: 0, 23.0: 1, 24.0: 1, 25.0: 1, 30.0: 0, 32.0: 1, 33.0: 1, 35.0: 0}\n",
      "  Feature 2: {0.0: 6, 1.0: 3}\n",
      "  Feature 3: {0.0: 6, 1.0: 3}\n"
     ]
    }
   ],
   "source": [
    "# Create a dictionary to store counts of feature values for each class\n",
    "feature_counts_by_class = {}\n",
    "class_labels = np.unique(y)\n",
    "\n",
    "# skip continuous features\n",
    "continuous_feature_indices = [1] \n",
    "\n",
    "# Initialize the dictionary with zeros\n",
    "for class_label in class_labels:\n",
    "    feature_counts_by_class[class_label] = {}\n",
    "\n",
    "for feature_index in range(X.shape[1]):  # Loop over each feature\n",
    "    for class_label in class_labels:  # Loop over each class\n",
    "        feature_counts_by_class[class_label][feature_index] = {}\n",
    "\n",
    "        # Count occurrences of each feature value for the current class\n",
    "        for feature_value in np.unique(X[:, feature_index]):\n",
    "            count = np.sum((X[:, feature_index] == feature_value) & (y == class_label))\n",
    "            feature_counts_by_class[class_label][feature_index][feature_value] = count\n",
    "\n",
    "# Display the counts for each feature value given each class\n",
    "for class_label, feature_counts in feature_counts_by_class.items():\n",
    "    print(f\"Class: {class_label}\")\n",
    "    for feature_index, value_counts in feature_counts.items():\n",
    "        print(f\"  Feature {feature_index}: {value_counts}\")\n",
    "\n"
   ]
  },
  {
   "cell_type": "code",
   "execution_count": 88,
   "id": "bfed3279-7b5d-4d2d-a352-352fb1c9c886",
   "metadata": {},
   "outputs": [
    {
     "name": "stdout",
     "output_type": "stream",
     "text": [
      "\n",
      "Probabilities for each instance of X_pred given each class:\n",
      "Class: normal\n",
      "  Feature 0: 0.6000\n",
      "  Feature 2: 0.8000\n",
      "  Feature 3: 0.6000\n",
      "Class: tumor\n",
      "  Feature 0: 0.2222\n",
      "  Feature 2: 0.3333\n",
      "  Feature 3: 0.3333\n"
     ]
    }
   ],
   "source": [
    "\n",
    "# Calculate probabilities for each instance of X_pred given each class\n",
    "probabilities_by_class = {}\n",
    "for class_label in class_labels:\n",
    "    probabilities_by_class[class_label] = {}\n",
    "\n",
    "    # Calculate the total count for each feature in the training data\n",
    "    total_counts = np.sum([count for count in feature_counts_by_class[class_label][feature_index].values()])\n",
    "\n",
    "    for feature_index, feature_value in enumerate(X_pred[0]):\n",
    "        if feature_index not in continuous_feature_indices:\n",
    "            # Use only counts without Laplace smoothing\n",
    "            count = feature_counts_by_class[class_label][feature_index].get(int(feature_value), 0)\n",
    "            probability = count / total_counts\n",
    "            probabilities_by_class[class_label][feature_index] = probability\n",
    "\n",
    "# Display the calculated probabilities\n",
    "print(\"\\nProbabilities for each instance of X_pred given each class:\")\n",
    "for class_label, probabilities in probabilities_by_class.items():\n",
    "    print(f\"Class: {class_label}\")\n",
    "    for feature_index, probability in probabilities.items():\n",
    "        print(f\"  Feature {feature_index}: {probability:.4f}\")"
   ]
  },
  {
   "cell_type": "code",
   "execution_count": 82,
   "id": "7f27f927-79ef-4ce8-9253-ffdb5ddcb13e",
   "metadata": {},
   "outputs": [
    {
     "data": {
      "text/plain": [
       "0.2222222222222222"
      ]
     },
     "execution_count": 82,
     "metadata": {},
     "output_type": "execute_result"
    }
   ],
   "source": []
  },
  {
   "cell_type": "code",
   "execution_count": null,
   "id": "5367afbf-10b8-4f89-bf00-ff83c7712ee6",
   "metadata": {},
   "outputs": [],
   "source": []
  }
 ],
 "metadata": {
  "kernelspec": {
   "display_name": "Python 3 (ipykernel)",
   "language": "python",
   "name": "python3"
  },
  "language_info": {
   "codemirror_mode": {
    "name": "ipython",
    "version": 3
   },
   "file_extension": ".py",
   "mimetype": "text/x-python",
   "name": "python",
   "nbconvert_exporter": "python",
   "pygments_lexer": "ipython3",
   "version": "3.11.5"
  }
 },
 "nbformat": 4,
 "nbformat_minor": 5
}

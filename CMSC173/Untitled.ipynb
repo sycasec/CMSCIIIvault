{
 "cells": [
  {
   "cell_type": "code",
   "execution_count": 1,
   "id": "c17d4a73-7ed9-47a8-804a-8f5e19c020be",
   "metadata": {},
   "outputs": [],
   "source": [
    "# importing necessary libraries\n",
    "import numpy as np\n",
    "from scipy.stats import norm"
   ]
  },
  {
   "cell_type": "code",
   "execution_count": 32,
   "id": "e4f9724f-21bb-4ca1-a0e2-e8a3115952ad",
   "metadata": {},
   "outputs": [],
   "source": [
    "# data storage\n",
    "data = np.array ([\n",
    "    [1, 1, 35, 1, 0, 'normal'],\n",
    "    [2, 1, 30, 1, 1, 'normal'],\n",
    "    [3, 0, 32, 1, 0, 'tumor'],\n",
    "    [4, -1, 20, 1, 0, 'tumor'],\n",
    "    [5, -1, 15, 0, 0, 'tumor'],\n",
    "    [6, -1, 13, 0, 1, 'normal'],\n",
    "    [7, 0, 11, 0, 1, 'tumor'],\n",
    "    [8, 1, 22, 1, 0, 'normal'],\n",
    "    [9, 1, 14, 0, 0, 'tumor'],\n",
    "    [10, -1, 24, 0, 0, 'tumor'],\n",
    "    [11, 1, 23, 0, 1, 'tumor'],\n",
    "    [12, 0, 25, 1, 1, 'tumor'],\n",
    "    [13, 0, 30, 0, 0, 'tumor'],\n",
    "    [14, -1, 21, 1, 1, 'normal'],\n",
    "    [15, 1, 12, 1, 1, 'unknown']\n",
    "])"
   ]
  },
  {
   "cell_type": "code",
   "execution_count": 33,
   "id": "59a2508e-d20a-4e7a-9e43-ac12e65c82b2",
   "metadata": {},
   "outputs": [],
   "source": [
    "# Separate data and labels\n",
    "X = data[:, 1:-1].astype(float)  # Features excluding Sample and Class columns\n",
    "y = data[:, -1]"
   ]
  },
  {
   "cell_type": "code",
   "execution_count": 34,
   "id": "eb902cc9-213e-455c-b55d-a90bc2445784",
   "metadata": {},
   "outputs": [],
   "source": [
    "# Separate data for prediction (row 15)\n",
    "X_pred = X[-1].reshape(1, -1)"
   ]
  },
  {
   "cell_type": "code",
   "execution_count": 36,
   "id": "af64d7ab-29b1-406e-b1fa-0e8ba452dd9a",
   "metadata": {},
   "outputs": [],
   "source": [
    "# Remove the row for prediction from the training data\n",
    "X = X[:-1]\n",
    "y = y[:-1]"
   ]
  },
  {
   "cell_type": "code",
   "execution_count": 37,
   "id": "afb3d60d-724e-467d-8c18-12338d31eefa",
   "metadata": {},
   "outputs": [
    {
     "name": "stdout",
     "output_type": "stream",
     "text": [
      "Class: normal\n",
      "  Feature 0: {-1.0: 1, 0.0: 0, 1.0: 3}\n",
      "  Feature 1: {11.0: 0, 13.0: 1, 14.0: 0, 15.0: 0, 20.0: 0, 22.0: 1, 23.0: 0, 24.0: 0, 25.0: 0, 30.0: 1, 32.0: 0, 35.0: 1}\n",
      "  Feature 2: {0.0: 1, 1.0: 3}\n",
      "  Feature 3: {0.0: 2, 1.0: 2}\n",
      "Class: tumor\n",
      "  Feature 0: {-1.0: 3, 0.0: 4, 1.0: 2}\n",
      "  Feature 1: {11.0: 1, 13.0: 0, 14.0: 1, 15.0: 1, 20.0: 1, 22.0: 0, 23.0: 1, 24.0: 1, 25.0: 1, 30.0: 1, 32.0: 1, 35.0: 0}\n",
      "  Feature 2: {0.0: 6, 1.0: 3}\n",
      "  Feature 3: {0.0: 6, 1.0: 3}\n"
     ]
    }
   ],
   "source": [
    "# Create a dictionary to store counts of feature values for each class\n",
    "feature_counts_by_class = {}\n",
    "class_labels = np.unique(y)\n",
    "\n",
    "# skip continuous features\n",
    "continuous_feature_indices = [1] \n",
    "\n",
    "# Initialize the dictionary with zeros\n",
    "for class_label in class_labels:\n",
    "    feature_counts_by_class[class_label] = {}\n",
    "\n",
    "for feature_index in range(X.shape[1]):  # Loop over each feature\n",
    "    for class_label in class_labels:  # Loop over each class\n",
    "        feature_counts_by_class[class_label][feature_index] = {}\n",
    "\n",
    "        # Count occurrences of each feature value for the current class\n",
    "        for feature_value in np.unique(X[:, feature_index]):\n",
    "            count = np.sum((X[:, feature_index] == feature_value) & (y == class_label))\n",
    "            feature_counts_by_class[class_label][feature_index][feature_value] = count\n",
    "\n",
    "# Display the counts for each feature value given each class\n",
    "for class_label, feature_counts in feature_counts_by_class.items():\n",
    "    print(f\"Class: {class_label}\")\n",
    "    for feature_index, value_counts in feature_counts.items():\n",
    "        print(f\"  Feature {feature_index}: {value_counts}\")\n",
    "\n"
   ]
  },
  {
   "cell_type": "code",
   "execution_count": 41,
   "id": "fdfac290-971e-4cba-84f7-3a57d6bc943c",
   "metadata": {},
   "outputs": [
    {
     "data": {
      "text/plain": [
       "{11.0: 0,\n",
       " 13.0: 1,\n",
       " 14.0: 0,\n",
       " 15.0: 0,\n",
       " 20.0: 0,\n",
       " 22.0: 1,\n",
       " 23.0: 0,\n",
       " 24.0: 0,\n",
       " 25.0: 0,\n",
       " 30.0: 1,\n",
       " 32.0: 0,\n",
       " 35.0: 1}"
      ]
     },
     "execution_count": 41,
     "metadata": {},
     "output_type": "execute_result"
    }
   ],
   "source": [
    "\n",
    "continuous_data = feature_counts_by_class['normal'][1]\n",
    "continuous_normal = [k for k,v in continuous_data.items() if v == 1]\n",
    "continuous_tumor = [k for k,v in continuous_data.items() if v == 0]\n",
    "continuous_data"
   ]
  },
  {
   "cell_type": "code",
   "execution_count": 39,
   "id": "0e860c00-264e-4928-9aae-0e70b27bb251",
   "metadata": {},
   "outputs": [
    {
     "data": {
      "text/plain": [
       "[11.0, 14.0, 15.0, 20.0, 23.0, 24.0, 25.0, 32.0]"
      ]
     },
     "execution_count": 39,
     "metadata": {},
     "output_type": "execute_result"
    }
   ],
   "source": [
    "continuous_tumor"
   ]
  },
  {
   "cell_type": "code",
   "execution_count": 40,
   "id": "f5996f93-8a55-459c-8757-369f4ea5107e",
   "metadata": {},
   "outputs": [
    {
     "data": {
      "text/plain": [
       "[13.0, 22.0, 30.0, 35.0]"
      ]
     },
     "execution_count": 40,
     "metadata": {},
     "output_type": "execute_result"
    }
   ],
   "source": [
    "continuous_normal"
   ]
  },
  {
   "cell_type": "code",
   "execution_count": null,
   "id": "df5e73c8-6718-4733-a58f-234a78390c72",
   "metadata": {},
   "outputs": [],
   "source": []
  }
 ],
 "metadata": {
  "kernelspec": {
   "display_name": "Python 3 (ipykernel)",
   "language": "python",
   "name": "python3"
  },
  "language_info": {
   "codemirror_mode": {
    "name": "ipython",
    "version": 3
   },
   "file_extension": ".py",
   "mimetype": "text/x-python",
   "name": "python",
   "nbconvert_exporter": "python",
   "pygments_lexer": "ipython3",
   "version": "3.11.5"
  }
 },
 "nbformat": 4,
 "nbformat_minor": 5
}
